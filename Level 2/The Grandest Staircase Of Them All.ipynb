{
 "cells": [
  {
   "cell_type": "markdown",
   "id": "0dcb543f",
   "metadata": {},
   "source": [
    "# The Grandest Staircase Of Them All"
   ]
  },
  {
   "cell_type": "markdown",
   "id": "73b0fe66",
   "metadata": {},
   "source": [
    "## Problem"
   ]
  },
  {
   "cell_type": "markdown",
   "id": "c2ba4fae",
   "metadata": {},
   "source": [
    "With the LAMBCHOP doomsday device finished, Commander Lambda is preparing to debut on the galactic stage -- but in order to make a grand entrance, Lambda needs a grand staircase! As the Commander's personal assistant, you've been tasked with figuring out how to build the best staircase EVER.<br>\n",
    "\n",
    "Lambda has given you an overview of the types of bricks available, plus a budget. You can buy different amounts of the different types of bricks (for example, 3 little pink bricks, or 5 blue lace bricks). Commander Lambda wants to know how many different types of staircases can be built with each amount of bricks, so they can pick the one with the most options. <br>\n",
    "\n",
    "Each type of staircase should consist of 2 or more steps.  No two steps are allowed to be at the same height - each step must be lower than the previous one. All steps must contain at least one brick. A step's height is classified as the total amount of bricks that make up that step.<br>\n",
    "For example, when N = 3, you have only 1 choice of how to build the staircase, with the first step having a height of 2 and the second step having a height of 1: ([] indicates a brick)<br>\n",
    "<br>\n",
    "[]<br>\n",
    "[][]<br>\n",
    "21<br>\n",
    "<br>\n",
    "When N = 4, you still only have 1 staircase choice:<br>\n",
    "<br>\n",
    "[]<br>\n",
    "[]<br>\n",
    "[][]<br>\n",
    "31<br>\n",
    "<br>\n",
    "But when N = 5, there are two ways you can build a staircase from the given bricks. The two staircases can have heights (4, 1) or (3, 2), as shown below:<br>\n",
    "<br>\n",
    "[]<br>\n",
    "[]<br>\n",
    "[]<br>\n",
    "[][]<br>\n",
    "41<br>\n",
    "<br>\n",
    "[]<br>\n",
    "[][]<br>\n",
    "[][]<br>\n",
    "32<br>\n",
    "<br>\n",
    "Write a function called solution(n) that takes a positive integer n and returns the number of different staircases that can be built from exactly n bricks. n will always be at least 3 (so you can have a staircase at all), but no more than 200, because Commander Lambda's not made of money!"
   ]
  },
  {
   "cell_type": "markdown",
   "id": "f32e96e9",
   "metadata": {},
   "source": [
    "## Solution"
   ]
  },
  {
   "cell_type": "code",
   "execution_count": 1,
   "id": "a1dea150",
   "metadata": {},
   "outputs": [],
   "source": [
    "def solution(n):\n",
    "    def soln(p, maximum, dic_soln):\n",
    "        tot = 0\n",
    "        ### Defines limit to which I need to loop\n",
    "        lim = 0.5*(-1+(1+8*p)**.5)\n",
    "        ### Limit adjustment for exact matches\n",
    "        if int(lim) == lim:\n",
    "            lim = lim - 1\n",
    "        #### Loop through all possible combinations for lower thing\n",
    "        for i in range(maximum, int(lim), -1):\n",
    "            if (p - i, min(p - i - 1, i - 1)) in dic_soln:\n",
    "                x = dic_soln[(p - i, min(p - i - 1, i - 1))]\n",
    "            else:\n",
    "                ### Oof... Recursion... Not so good is it ?\n",
    "                x = soln(p - i, min(p - i - 1, i - 1), dic_soln)\n",
    "                ### Using DP.. so i guess its fine\n",
    "                dic_soln[(p - i, min(p - i - 1, i - 1))] = x\n",
    "                \n",
    "            if p - i < float(p) / 2:\n",
    "                x += 1\n",
    "            tot += x\n",
    "        return tot\n",
    "    ### Base DP scores... Need this to make it faster...\n",
    "    dic_soln = {(1, 0): 0, \n",
    "                (2, 0): 0, \n",
    "                (3, 0): 1,\n",
    "                (3, 1): 1,\n",
    "                (4, 1): 1,\n",
    "                (4, 2): 1,\n",
    "                (4, 3): 1,\n",
    "                (3, 2): 1\n",
    "               }\n",
    "    total = soln(n, n - 1, dic_soln)\n",
    "    return total"
   ]
  },
  {
   "cell_type": "markdown",
   "id": "1496d42a",
   "metadata": {},
   "source": [
    "## Test Cases"
   ]
  },
  {
   "cell_type": "code",
   "execution_count": 2,
   "id": "ce35e6ff",
   "metadata": {},
   "outputs": [
    {
     "data": {
      "text/plain": [
       "487067745"
      ]
     },
     "execution_count": 2,
     "metadata": {},
     "output_type": "execute_result"
    }
   ],
   "source": [
    "solution(200)"
   ]
  },
  {
   "cell_type": "code",
   "execution_count": null,
   "id": "8380b4a7",
   "metadata": {},
   "outputs": [],
   "source": [
    "%timeit solution(200)"
   ]
  }
 ],
 "metadata": {
  "kernelspec": {
   "display_name": "Python 3 (ipykernel)",
   "language": "python",
   "name": "python3"
  },
  "language_info": {
   "codemirror_mode": {
    "name": "ipython",
    "version": 3
   },
   "file_extension": ".py",
   "mimetype": "text/x-python",
   "name": "python",
   "nbconvert_exporter": "python",
   "pygments_lexer": "ipython3",
   "version": "3.9.7"
  }
 },
 "nbformat": 4,
 "nbformat_minor": 5
}
