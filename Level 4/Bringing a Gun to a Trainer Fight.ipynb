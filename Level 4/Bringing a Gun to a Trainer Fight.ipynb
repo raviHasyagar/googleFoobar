{
 "cells": [
  {
   "cell_type": "markdown",
   "id": "36094015",
   "metadata": {},
   "source": [
    "# Bringing a Gun to a Trainer Fight"
   ]
  },
  {
   "cell_type": "markdown",
   "id": "5ada6b3c",
   "metadata": {},
   "source": [
    "## Problem"
   ]
  },
  {
   "cell_type": "markdown",
   "id": "8a795093",
   "metadata": {},
   "source": [
    "Uh-oh -- you've been cornered by one of Commander Lambdas elite bunny trainers! Fortunately, you grabbed a beam weapon from an abandoned storeroom while you were running through the station, so you have a chance to fight your way out. But the beam weapon is potentially dangerous to you as well as to the bunny trainers: its beams reflect off walls, meaning you'll have to be very careful where you shoot to avoid bouncing a shot toward yourself!\n",
    "<br>\n",
    "Luckily, the beams can only travel a certain maximum distance before becoming too weak to cause damage. You also know that if a beam hits a corner, it will bounce back in exactly the same direction. And of course, if the beam hits either you or the bunny trainer, it will stop immediately (albeit painfully). \n",
    "<br>\n",
    "Write a function solution(dimensions, your_position, trainer_position, distance) that gives an array of 2 integers of the width and height of the room, an array of 2 integers of your x and y coordinates in the room, an array of 2 integers of the trainer's x and y coordinates in the room, and returns an integer of the number of distinct directions that you can fire to hit the elite trainer, given the maximum distance that the beam can travel.\n",
    "<br>\n",
    "The room has integer dimensions [1 < x_dim <= 1250, 1 < y_dim <= 1250]. You and the elite trainer are both positioned on the integer lattice at different distinct positions (x, y) inside the room such that [0 < x < x_dim, 0 < y < y_dim]. Finally, the maximum distance that the beam can travel before becoming harmless will be given as an integer 1 < distance <= 10000.\n",
    "<br>\n",
    "For example, if you and the elite trainer were positioned in a room with dimensions [3, 2], your_position [1, 1], trainer_position [2, 1], and a maximum shot distance of 4, you could shoot in seven different directions to hit the elite trainer (given as vector bearings from your location): [1, 0], [1, 2], [1, -2], [3, 2], [3, -2], [-3, 2], and [-3, -2]. As specific examples, the shot at bearing [1, 0] is the straight line horizontal shot of distance 1, the shot at bearing [-3, -2] bounces off the left wall and then the bottom wall before hitting the elite trainer with a total shot distance of sqrt(13), and the shot at bearing [1, 2] bounces off just the top wall before hitting the elite trainer with a total shot distance of sqrt(5)."
   ]
  },
  {
   "cell_type": "markdown",
   "id": "f5d8ef0f",
   "metadata": {},
   "source": [
    "## Solution"
   ]
  },
  {
   "cell_type": "code",
   "execution_count": 1,
   "id": "c633de55",
   "metadata": {},
   "outputs": [],
   "source": [
    "from math import atan2\n",
    "\n",
    "def dist(x1, x2):\n",
    "    return ((x1[0] - x2[0]) ** 2 + (x1[1] - x2[1]) ** 2)\n",
    "\n",
    "def findAngle(base, final):\n",
    "    angle = atan2(final[1] - base[1], final[0] - base[0])\n",
    "    return angle\n",
    "\n",
    "### Find angles, distances and everything for the reflections\n",
    "def findReflections(x, y, x_size, y_size, number, your_position):\n",
    "    reflections = []\n",
    "    for i in range(-number, number + 1, 1):\n",
    "        reflections_x = []\n",
    "        for j in range(-number, number + 1, 1):\n",
    "            trans_x, trans_y = False, False        \n",
    "            if i % 2 == 0:\n",
    "                x_final = x\n",
    "            else:\n",
    "                x_final = x_size - x\n",
    "            if j % 2 == 0:\n",
    "                y_final = y\n",
    "            else:\n",
    "                y_final = y_size - y\n",
    "            fifa_x = x_final + x_size*i\n",
    "            fifa_y = y_final + y_size*j\n",
    "            angle = findAngle((your_position[0], your_position[1]), (fifa_x, fifa_y))\n",
    "            distance = dist((your_position[0], your_position[1]), (fifa_x, fifa_y))\n",
    "            reflections_x.append((fifa_x, fifa_y, angle, distance))\n",
    "        reflections.append(reflections_x)\n",
    "    return reflections\n",
    "\n",
    "## So, I am proud of this. Many trainers were beaten... And pretty fast\n",
    "## My logic is to find all the reflections of the rooms around the room in every direction limited by the distance\n",
    "def solution(dimensions, your_position, trainer_position, distance):\n",
    "    if your_position == trainer_position:\n",
    "        return 0\n",
    "    ## This limits the number of reflections to be found\n",
    "    number = max(int(distance/(dimensions[0])), int(distance/dimensions[1])) + 1\n",
    "    \n",
    "    ## I need reflections of my positions, cos i dont want to be in firing zone\n",
    "    my_postions = findReflections(your_position[0],\n",
    "                                    your_position[1],\n",
    "                                    dimensions[0], \n",
    "                                    dimensions[1],\n",
    "                                    number,\n",
    "                                    your_position)\n",
    "    \n",
    "    ## I need reflections of trainers to attack them\n",
    "    tr_positions = findReflections(trainer_position[0],\n",
    "                                    trainer_position[1],\n",
    "                                    dimensions[0], \n",
    "                                    dimensions[1], \n",
    "                                    number,\n",
    "                                    your_position)\n",
    "    \n",
    "    final = 0\n",
    "    midpoint = int(len(tr_positions)/2)\n",
    "    angles = {}\n",
    "    angles2 = {}\n",
    "    count = 0\n",
    "    x = 1\n",
    "    dist_sq = distance * distance\n",
    "    ## Direct shot. Need to check directly.. cos it doesn't work inside :P\n",
    "    if dist(your_position, trainer_position) <= dist_sq:\n",
    "        angles[tr_positions[midpoint][midpoint][2]] = tr_positions[midpoint][midpoint][3]\n",
    "        count += 1\n",
    "    ## To figure this out, I took a lot of time... Almost got killed by the trainers\n",
    "    ## So basically I am going round and round and round the reflections and noting down the angles. \n",
    "    ## This way, any points with repeat angles will be eliminated\n",
    "    while x <= number:\n",
    "        for i in range(-x, x + 1):\n",
    "            list_pts = [(midpoint + i, midpoint + x),\n",
    "                        (midpoint + i, midpoint - x),\n",
    "                        (midpoint + x, midpoint + i),\n",
    "                        (midpoint - x, midpoint + i)]\n",
    "            for j in list_pts:\n",
    "                if my_postions[j[0]][j[1]][2] not in angles2:\n",
    "                    angles2[my_postions[j[0]][j[1]][2]] = my_postions[j[0]][j[1]][3]\n",
    "                if tr_positions[j[0]][j[1]][3] <= dist_sq:\n",
    "                    if (tr_positions[j[0]][j[1]][2] not in angles and \n",
    "                        tr_positions[j[0]][j[1]][2] not in angles2):\n",
    "                        angles[tr_positions[j[0]][j[1]][2]] = tr_positions[j[0]][j[1]][3]\n",
    "                        count += 1\n",
    "\n",
    "        x += 1\n",
    "    return count"
   ]
  },
  {
   "cell_type": "markdown",
   "id": "4c94d7ee",
   "metadata": {},
   "source": [
    "## Test Cases"
   ]
  },
  {
   "cell_type": "code",
   "execution_count": 2,
   "id": "d7975422",
   "metadata": {},
   "outputs": [
    {
     "data": {
      "text/plain": [
       "9"
      ]
     },
     "execution_count": 2,
     "metadata": {},
     "output_type": "execute_result"
    }
   ],
   "source": [
    "solution([300,275], [150,150], [185,100], 500)"
   ]
  },
  {
   "cell_type": "code",
   "execution_count": 3,
   "id": "b5649217",
   "metadata": {},
   "outputs": [
    {
     "data": {
      "text/plain": [
       "7"
      ]
     },
     "execution_count": 3,
     "metadata": {},
     "output_type": "execute_result"
    }
   ],
   "source": [
    "solution([3,2], [1,1], [2,1], 4)"
   ]
  },
  {
   "cell_type": "code",
   "execution_count": 4,
   "id": "a3e8c9a3",
   "metadata": {},
   "outputs": [
    {
     "data": {
      "text/plain": [
       "739323"
      ]
     },
     "execution_count": 4,
     "metadata": {},
     "output_type": "execute_result"
    }
   ],
   "source": [
    "solution([10,10],[3,3],[4,4],5000) #### It was hard to beat this guy"
   ]
  }
 ],
 "metadata": {
  "kernelspec": {
   "display_name": "Python 3 (ipykernel)",
   "language": "python",
   "name": "python3"
  },
  "language_info": {
   "codemirror_mode": {
    "name": "ipython",
    "version": 3
   },
   "file_extension": ".py",
   "mimetype": "text/x-python",
   "name": "python",
   "nbconvert_exporter": "python",
   "pygments_lexer": "ipython3",
   "version": "3.9.7"
  }
 },
 "nbformat": 4,
 "nbformat_minor": 5
}
