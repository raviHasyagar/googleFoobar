{
 "cells": [
  {
   "cell_type": "markdown",
   "id": "27068419",
   "metadata": {},
   "source": [
    "# Distract the Trainers"
   ]
  },
  {
   "cell_type": "markdown",
   "id": "656b7ca3",
   "metadata": {},
   "source": [
    "## Problem"
   ]
  },
  {
   "cell_type": "markdown",
   "id": "fcb77c1f",
   "metadata": {},
   "source": [
    "The time for the mass escape has come, and you need to distract the bunny trainers so that the workers can make it out! Unfortunately for you, they're watching the bunnies closely. Fortunately, this means they haven't realized yet that the space station is about to explode due to the destruction of the LAMBCHOP doomsday device. Also fortunately, all that time you spent working as first a minion and then a henchman means that you know the trainers are fond of bananas. And gambling. And thumb wrestling.\n",
    "<br>\n",
    "The bunny trainers, being bored, readily accept your suggestion to play the Banana Games.\n",
    "<br>\n",
    "You will set up simultaneous thumb wrestling matches. In each match, two trainers will pair off to thumb wrestle. The trainer with fewer bananas will bet all their bananas, and the other trainer will match the bet. The winner will receive all of the bet bananas. You don't pair off trainers with the same number of bananas (you will see why, shortly). You know enough trainer psychology to know that the one who has more bananas always gets over-confident and loses. Once a match begins, the pair of trainers will continue to thumb wrestle and exchange bananas, until both of them have the same number of bananas. Once that happens, both of them will lose interest and go back to supervising the bunny workers, and you don't want THAT to happen!\n",
    "<br>\n",
    "For example, if the two trainers that were paired started with 3 and 5 bananas, after the first round of thumb wrestling they will have 6 and 2 (the one with 3 bananas wins and gets 3 bananas from the loser). After the second round, they will have 4 and 4 (the one with 6 bananas loses 2 bananas). At that point they stop and get back to training bunnies.\n",
    "<br>\n",
    "How is all this useful to distract the bunny trainers? Notice that if the trainers had started with 1 and 4 bananas, then they keep thumb wrestling! 1, 4 -> 2, 3 -> 4, 1 -> 3, 2 -> 1, 4 and so on.\n",
    "<br>\n",
    "Now your plan is clear. You must pair up the trainers in such a way that the maximum number of trainers go into an infinite thumb wrestling loop!\n",
    "<br>\n",
    "Write a function solution(banana_list) which, given a list of positive integers depicting the amount of bananas the each trainer starts with, returns the fewest possible number of bunny trainers that will be left to watch the workers. Element i of the list will be the number of bananas that trainer i (counting from 0) starts with.\n",
    "<br>\n",
    "The number of trainers will be at least 1 and not more than 100, and the number of bananas each trainer starts with will be a positive integer no more than 1073741823 (i.e. 2^30 -1). Some of them stockpile a LOT of bananas."
   ]
  },
  {
   "cell_type": "markdown",
   "id": "34ee7ef4",
   "metadata": {},
   "source": [
    "## Solution"
   ]
  },
  {
   "cell_type": "code",
   "execution_count": 1,
   "id": "f04fde4f",
   "metadata": {},
   "outputs": [],
   "source": [
    "def powerOf2(n):\n",
    "#     import math\n",
    "#     print('fifa')\n",
    "#     if (math.log2(n) % 1) != 0:\n",
    "#         return False\n",
    "    while n > 1:\n",
    "        if n % 2 == 0:\n",
    "            n = n / 2\n",
    "        else:\n",
    "            return False\n",
    "    return True\n",
    "\n",
    "def isThisRep(a, b):\n",
    "    # print(a, b)\n",
    "    if powerOf2(a + b):\n",
    "        return False\n",
    "    if ((a + b) % min(a, b)) == 0:\n",
    "        if powerOf2((a + b) / min(a,b)):\n",
    "            return False\n",
    "    return True\n",
    "## 2 Cases... \n",
    "## If sum of 2 numbers is power of 8... \n",
    "## if sum of 2 numbers divided by smaller number is power of 8... Both handled in isThisRep\n",
    "## Only task now is to search for this combo\n",
    "def solution(banana_list):\n",
    "    comboList = {}\n",
    "    takenDict = {}\n",
    "    banana_list.sort()\n",
    "    for i in range(len(banana_list)):\n",
    "        if banana_list[i] in takenDict:\n",
    "            takenDict[banana_list[i]] += 1\n",
    "        else:\n",
    "            takenDict[banana_list[i]] = 1\n",
    "\n",
    "    #print(takenDict)\n",
    "    takenKeys = list(takenDict.keys())\n",
    "    for i in range(len(takenKeys)):\n",
    "        for k in range(takenDict[takenKeys[i]]):## extra\n",
    "            # print(i)\n",
    "            if takenDict[takenKeys[i]] > 0:\n",
    "                for j in range(i + 1, len(takenKeys)):\n",
    "                    if takenDict[takenKeys[j]] > 0:\n",
    "                        if not isThisRep(takenKeys[i], takenKeys[j]):\n",
    "                            continue\n",
    "                        takenDict[takenKeys[i]] -= 1\n",
    "                        takenDict[takenKeys[j]] -= 1\n",
    "                        #print(takenDict[takenKeys[i]], takenDict[takenKeys[j]])\n",
    "                        break\n",
    "    # print(takenDict)              \n",
    "    taken = 0\n",
    "    for i in takenDict:\n",
    "        taken += takenDict[i]\n",
    "    # print(taken)\n",
    "    \n",
    "    ### Handle repeats properly ? and then you are done\n",
    "    return str(taken)"
   ]
  },
  {
   "cell_type": "markdown",
   "id": "a1743278",
   "metadata": {},
   "source": [
    "## Test Cases"
   ]
  },
  {
   "cell_type": "code",
   "execution_count": 3,
   "id": "6ed97359",
   "metadata": {},
   "outputs": [
    {
     "data": {
      "text/plain": [
       "'0'"
      ]
     },
     "execution_count": 3,
     "metadata": {},
     "output_type": "execute_result"
    }
   ],
   "source": [
    "solution([1, 7, 3, 21, 13, 19])"
   ]
  }
 ],
 "metadata": {
  "kernelspec": {
   "display_name": "Python 3 (ipykernel)",
   "language": "python",
   "name": "python3"
  },
  "language_info": {
   "codemirror_mode": {
    "name": "ipython",
    "version": 3
   },
   "file_extension": ".py",
   "mimetype": "text/x-python",
   "name": "python",
   "nbconvert_exporter": "python",
   "pygments_lexer": "ipython3",
   "version": "3.9.7"
  }
 },
 "nbformat": 4,
 "nbformat_minor": 5
}
