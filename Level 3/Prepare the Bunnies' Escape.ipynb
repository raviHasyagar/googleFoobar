{
 "cells": [
  {
   "cell_type": "markdown",
   "id": "8302524f",
   "metadata": {},
   "source": [
    "# Prepare the Bunnies' Escape"
   ]
  },
  {
   "cell_type": "markdown",
   "id": "35681759",
   "metadata": {},
   "source": [
    "## Problem"
   ]
  },
  {
   "cell_type": "markdown",
   "id": "2d470db8",
   "metadata": {},
   "source": [
    "You're awfully close to destroying the LAMBCHOP doomsday device and freeing Commander Lambda's bunny workers, but once they're free of the work duties the bunnies are going to need to escape Lambda's space station via the escape pods as quickly as possible. Unfortunately, the halls of the space station are a maze of corridors and dead ends that will be a deathtrap for the escaping bunnies. Fortunately, Commander Lambda has put you in charge of a remodeling project that will give you the opportunity to make things a little easier for the bunnies. Unfortunately (again), you can't just remove all obstacles between the bunnies and the escape pods - at most you can remove one wall per escape pod path, both to maintain structural integrity of the station and to avoid arousing Commander Lambda's suspicions. \n",
    "\n",
    "You have maps of parts of the space station, each starting at a work area exit and ending at the door to an escape pod. The map is represented as a matrix of 0s and 1s, where 0s are passable space and 1s are impassable walls. The door out of the station is at the top left (0,0) and the door into an escape pod is at the bottom right (w-1,h-1). \n",
    "\n",
    "Write a function solution(map) that generates the length of the shortest path from the station door to the escape pod, where you are allowed to remove one wall as part of your remodeling plans. The path length is the total number of nodes you pass through, counting both the entrance and exit nodes. The starting and ending positions are always passable (0). The map will always be solvable, though you may or may not need to remove a wall. The height and width of the map can be from 2 to 20. Moves can only be made in cardinal directions; no diagonal moves are allowed."
   ]
  },
  {
   "cell_type": "markdown",
   "id": "88a67076",
   "metadata": {},
   "source": [
    "## Solution"
   ]
  },
  {
   "cell_type": "code",
   "execution_count": 1,
   "id": "bda04c77",
   "metadata": {},
   "outputs": [],
   "source": [
    "def solution(map):\n",
    "    height = len(map)\n",
    "    width = len(map[0])\n",
    "    ## DP DP ALL AROUND\n",
    "    start = [[None for i in range(width)] for i in range(height)]\n",
    "    start[0][0] = 1\n",
    "\n",
    "    path = [(0, 0)]\n",
    "    while len(path) > 0:\n",
    "        x, y = path.pop(0)\n",
    "        for i in [(-1,0),(1,0),(0,-1),(0,1)]:\n",
    "            new_x = x + i[0]\n",
    "            new_y = y + i[1]\n",
    "            if 0 <= new_x < height and 0 <= new_y < width and start[new_x][new_y] is None:\n",
    "                start[new_x][new_y] = start[x][y] + 1\n",
    "                if map[new_x][new_y] == 1:\n",
    "                    continue\n",
    "                path.append((new_x, new_y))\n",
    "    \n",
    "    end = [[None for i in range(width)] for i in range(height)]\n",
    "    end[height - 1][width - 1] = 1\n",
    "\n",
    "    path = [(height - 1, width - 1)]\n",
    "    while len(path) > 0:\n",
    "        x, y = path.pop(0)\n",
    "        for i in [(-1,0),(1,0),(0,-1),(0,1)]:\n",
    "            new_x = x + i[0]\n",
    "            new_y = y + i[1]\n",
    "            if 0 <= new_x < height and 0 <= new_y < width and end[new_x][new_y] is None:\n",
    "                end[new_x][new_y] = end[x][y] + 1\n",
    "                if map[new_x][new_y] == 1:\n",
    "                    continue\n",
    "                path.append((new_x, new_y))\n",
    "    \n",
    "    \n",
    "    \n",
    "    board = []\n",
    "    res = 1000000\n",
    "    for i in range(height):\n",
    "        for j in range(width):\n",
    "            if start[i][j] and end[i][j]:\n",
    "                res = min(start[i][j] + end[i][j] - 1, res)\n",
    "    return res"
   ]
  },
  {
   "cell_type": "markdown",
   "id": "df8d8a3f",
   "metadata": {},
   "source": [
    "## Test cases"
   ]
  },
  {
   "cell_type": "code",
   "execution_count": 2,
   "id": "b44fe43f",
   "metadata": {},
   "outputs": [
    {
     "data": {
      "text/plain": [
       "11"
      ]
     },
     "execution_count": 2,
     "metadata": {},
     "output_type": "execute_result"
    }
   ],
   "source": [
    "solution([[0, 0, 0, 0, 0, 0], \n",
    "          [1, 1, 1, 1, 1, 0], \n",
    "          [0, 0, 0, 0, 0, 0], \n",
    "          [0, 1, 1, 1, 1, 1], \n",
    "          [0, 1, 1, 1, 1, 1], \n",
    "          [0, 0, 0, 0, 0, 0]])"
   ]
  }
 ],
 "metadata": {
  "kernelspec": {
   "display_name": "Python 3 (ipykernel)",
   "language": "python",
   "name": "python3"
  },
  "language_info": {
   "codemirror_mode": {
    "name": "ipython",
    "version": 3
   },
   "file_extension": ".py",
   "mimetype": "text/x-python",
   "name": "python",
   "nbconvert_exporter": "python",
   "pygments_lexer": "ipython3",
   "version": "3.9.7"
  }
 },
 "nbformat": 4,
 "nbformat_minor": 5
}
