{
 "cells": [
  {
   "cell_type": "markdown",
   "id": "ee7a7ae8",
   "metadata": {},
   "source": [
    "# Bomb, Baby"
   ]
  },
  {
   "cell_type": "markdown",
   "id": "014f56ee",
   "metadata": {},
   "source": [
    "## Problem"
   ]
  },
  {
   "cell_type": "markdown",
   "id": "3f4f6216",
   "metadata": {},
   "source": [
    "You're so close to destroying the LAMBCHOP doomsday device you can taste it! But in order to do so, you need to deploy special self-replicating bombs designed for you by the brightest scientists on Bunny Planet. There are two types: Mach bombs (M) and Facula bombs (F). The bombs, once released into the LAMBCHOP's inner workings, will automatically deploy to all the strategic points you've identified and destroy them at the same time. \n",
    "<br>\n",
    "But there's a few catches. First, the bombs self-replicate via one of two distinct processes: \n",
    "Every Mach bomb retrieves a sync unit from a Facula bomb; for every Mach bomb, a Facula bomb is created;\n",
    "Every Facula bomb spontaneously creates a Mach bomb.\n",
    "<br>\n",
    "For example, if you had 3 Mach bombs and 2 Facula bombs, they could either produce 3 Mach bombs and 5 Facula bombs, or 5 Mach bombs and 2 Facula bombs. The replication process can be changed each cycle. \n",
    "<br>\n",
    "Second, you need to ensure that you have exactly the right number of Mach and Facula bombs to destroy the LAMBCHOP device. Too few, and the device might survive. Too many, and you might overload the mass capacitors and create a singularity at the heart of the space station - not good! \n",
    "<br>\n",
    "And finally, you were only able to smuggle one of each type of bomb - one Mach, one Facula - aboard the ship when you arrived, so that's all you have to start with. (Thus it may be impossible to deploy the bombs to destroy the LAMBCHOP, but that's not going to stop you from trying!) \n",
    "<br>\n",
    "You need to know how many replication cycles (generations) it will take to generate the correct amount of bombs to destroy the LAMBCHOP. Write a function solution(M, F) where M and F are the number of Mach and Facula bombs needed. Return the fewest number of generations (as a string) that need to pass before you'll have the exact number of bombs necessary to destroy the LAMBCHOP, or the string \"impossible\" if this can't be done! M and F will be string representations of positive integers no larger than 10^50. For example, if M = \"2\" and F = \"1\", one generation would need to pass, so the solution would be \"1\". However, if M = \"2\" and F = \"4\", it would not be possible."
   ]
  },
  {
   "cell_type": "markdown",
   "id": "9571568b",
   "metadata": {},
   "source": [
    "## Solution"
   ]
  },
  {
   "cell_type": "code",
   "execution_count": 1,
   "id": "ae95a43f",
   "metadata": {},
   "outputs": [],
   "source": [
    "def solution(x, y):\n",
    "    dummy_x = int(x)\n",
    "    dummy_y = int(y)\n",
    "    count = 0\n",
    "    ## Go backwards on the facula and keep subtracting lower from higher.\n",
    "    while dummy_x > 1 or dummy_y > 1:\n",
    "        if dummy_x == 0 or dummy_y == 0:\n",
    "            break        \n",
    "        if dummy_x > dummy_y:\n",
    "            dummy_x -= dummy_y\n",
    "        else:\n",
    "            dummy_y -= dummy_x\n",
    "        count += 1\n",
    "    if dummy_x != 1 or dummy_y != 1:\n",
    "        return 'impossible'\n",
    "    else:\n",
    "        return str(count)"
   ]
  },
  {
   "cell_type": "markdown",
   "id": "cf5ad63b",
   "metadata": {},
   "source": [
    "## Test Cases"
   ]
  },
  {
   "cell_type": "code",
   "execution_count": 4,
   "id": "a3383a2a",
   "metadata": {},
   "outputs": [
    {
     "data": {
      "text/plain": [
       "'impossible'"
      ]
     },
     "execution_count": 4,
     "metadata": {},
     "output_type": "execute_result"
    }
   ],
   "source": [
    "solution(10, 10)"
   ]
  }
 ],
 "metadata": {
  "kernelspec": {
   "display_name": "Python 3 (ipykernel)",
   "language": "python",
   "name": "python3"
  },
  "language_info": {
   "codemirror_mode": {
    "name": "ipython",
    "version": 3
   },
   "file_extension": ".py",
   "mimetype": "text/x-python",
   "name": "python",
   "nbconvert_exporter": "python",
   "pygments_lexer": "ipython3",
   "version": "3.9.7"
  }
 },
 "nbformat": 4,
 "nbformat_minor": 5
}
