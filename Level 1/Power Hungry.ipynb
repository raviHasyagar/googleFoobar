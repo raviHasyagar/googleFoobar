{
 "cells": [
  {
   "cell_type": "markdown",
   "id": "ad483f62",
   "metadata": {},
   "source": [
    "# Power Hungry"
   ]
  },
  {
   "cell_type": "markdown",
   "id": "7fc2bbcc",
   "metadata": {},
   "source": [
    "## Problem"
   ]
  },
  {
   "cell_type": "markdown",
   "id": "902fe6b9",
   "metadata": {},
   "source": [
    "Commander Lambda's space station is HUGE. And huge space stations take a LOT of power. Huge space stations with doomsday devices take even more power. To help meet the station's power needs, Commander Lambda has installed solar panels on the station's outer surface. But the station sits in the middle of a quasar quantum flux field, which wreaks havoc on the solar panels. You and your team of henchmen has been assigned to repair the solar panels, but you can't take them all down at once without shutting down the space station (and all those pesky life support systems!).\n",
    "<br>\n",
    "You need to figure out which sets of panels in any given array you can take offline to repair while still maintaining the maximum amount of power output per array, and to do THAT, you'll first need to figure out what the maximum output of each array actually is. Write a function answer(xs) that takes a list of integers representing the power output levels of each panel in an array, and returns the maximum product of some non-empty subset of those numbers. So for example, if an array contained panels with power output levels of [2, -3, 1, 0, -5], then the maximum product would be found by taking the subset: xs[0] = 2, xs[1] = -3, xs[4] = -5, giving the product 2*(-3)*(-5) = 30. So answer([2,-3,1,0,-5]) will be \"30\".\n",
    "<br>\n",
    "Each array of solar panels contains at least 1 and no more than 50 panels, and each panel will have a power output level whose absolute value is no greater than 1000 (some panels are malfunctioning so badly that they're draining energy, but you know a trick with the panels' wave stabilizer that lets you combine two negative-output panels to produce the positive output of the multiple of their power values). The final products may be very large, so give the answer as a string representation of the number."
   ]
  },
  {
   "cell_type": "markdown",
   "id": "0c517c2b",
   "metadata": {},
   "source": [
    "## Solution"
   ]
  },
  {
   "cell_type": "code",
   "execution_count": 1,
   "id": "dbe2605b",
   "metadata": {},
   "outputs": [],
   "source": [
    "def solution(xs):\n",
    "    if len(xs) == 1:\n",
    "        return str(xs[0])\n",
    "    neg_arr = []\n",
    "    pos_arr = []\n",
    "    flag = False\n",
    "    smallest_neg = -10000\n",
    "    second_smallest_neg = -10001\n",
    "    smallest_pos = 10000\n",
    "    product = 1\n",
    "    count_neg = 0\n",
    "    count_zero = 0\n",
    "    for i in xs:\n",
    "        if i == 0:\n",
    "            flag = True\n",
    "            count_zero += 1\n",
    "            continue\n",
    "        if i < 0:\n",
    "            count_neg += 1\n",
    "            if i > smallest_neg:\n",
    "                smallest_neg = i\n",
    "        else:\n",
    "            if i < smallest_pos:\n",
    "                smallest_pos = i\n",
    "        product = product * i\n",
    "    if count_zero + count_neg == len(xs):\n",
    "        if count_neg == 1 or count_zero == len(xs):\n",
    "            return '0'\n",
    "\n",
    "    if flag:        \n",
    "        if product < 0:\n",
    "            product = product/smallest_neg\n",
    "    else:\n",
    "        if product < 0:\n",
    "            product = product/smallest_neg\n",
    "        else:\n",
    "            if len(neg_arr) == 0:\n",
    "                product = product/smallest_pos\n",
    "            else:\n",
    "                if smallest_neg * second_smallest_neg < smallest_pos:\n",
    "                    product = product/(smallest_neg * second_smallest_neg)\n",
    "                else:\n",
    "                    product = product/smallest_pos\n",
    "    return str(int(product))"
   ]
  },
  {
   "cell_type": "markdown",
   "id": "acccd5bc",
   "metadata": {},
   "source": [
    "## Test Cases"
   ]
  },
  {
   "cell_type": "code",
   "execution_count": 2,
   "id": "3147f682",
   "metadata": {},
   "outputs": [
    {
     "data": {
      "text/plain": [
       "'91500665710779462687982510530080930578561586805790737778021776209919542841194286375782547090197652173111576355600822680317591552'"
      ]
     },
     "execution_count": 2,
     "metadata": {},
     "output_type": "execute_result"
    }
   ],
   "source": [
    "arr = [-835, 872, -404, -317, -917, -50, 589, -940, 40, -944, -611, 247, 284, 284, 925, 304, 429, 481, -389, -982, 742, -800, 613, 526, 637, -280, 881, 269, 236, 505, 56, 194, 158, 119, 321, -604, -530, -875, 299, 845, 546, 602, -146, 299, 118, 297, -973, -469, -799, -185]\n",
    "solution(arr)"
   ]
  }
 ],
 "metadata": {
  "kernelspec": {
   "display_name": "Python 3 (ipykernel)",
   "language": "python",
   "name": "python3"
  },
  "language_info": {
   "codemirror_mode": {
    "name": "ipython",
    "version": 3
   },
   "file_extension": ".py",
   "mimetype": "text/x-python",
   "name": "python",
   "nbconvert_exporter": "python",
   "pygments_lexer": "ipython3",
   "version": "3.9.7"
  }
 },
 "nbformat": 4,
 "nbformat_minor": 5
}
