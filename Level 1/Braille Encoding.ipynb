{
 "cells": [
  {
   "cell_type": "markdown",
   "id": "4c99c553",
   "metadata": {},
   "source": [
    "# Braille Encoding"
   ]
  },
  {
   "cell_type": "markdown",
   "id": "5eb56921",
   "metadata": {},
   "source": [
    "## Problem"
   ]
  },
  {
   "cell_type": "markdown",
   "id": "84cdbc95",
   "metadata": {},
   "source": [
    "Obviously.... Encode text to Automated Braille Script to help blind workers"
   ]
  },
  {
   "cell_type": "markdown",
   "id": "18b7aa90",
   "metadata": {},
   "source": [
    "## Solution"
   ]
  },
  {
   "cell_type": "code",
   "execution_count": 2,
   "id": "1fc29d72",
   "metadata": {},
   "outputs": [],
   "source": [
    "def solution(s):\n",
    "    ### Created this dictionary using references online\n",
    "    ### https://www.rnib.org.uk/sites/default/files/ks1_braille_alphabet.pdf\n",
    "    brailleDict = {'a': '100000',\n",
    "                    'b': '110000',\n",
    "                    'c': '100100',\n",
    "                    'd': '100110',\n",
    "                    'e': '100010',\n",
    "                    'f': '110100',\n",
    "                    'g': '110110',\n",
    "                    'h': '110010',\n",
    "                    'i': '010100',\n",
    "                    'j': '010110',\n",
    "                    'k': '101000',\n",
    "                    'l': '111000',\n",
    "                    'm': '101100',\n",
    "                    'n': '101110',\n",
    "                    'o': '101010',\n",
    "                    'p': '111100',\n",
    "                    'q': '111110',\n",
    "                    'r': '111010',\n",
    "                    's': '011100',\n",
    "                    't': '011110',\n",
    "                    'u': '101001',\n",
    "                    'v': '111001',\n",
    "                    'w': '010111',\n",
    "                    'x': '101101',\n",
    "                    'y': '101111',\n",
    "                    'z': '101011',\n",
    "                    'caps': '000001',\n",
    "                    'space': '000000'}\n",
    "    result = []\n",
    "    for i in s:\n",
    "        if i == ' ':\n",
    "            ### Handling for Spaces\n",
    "            result.append(brailleDict['space'])\n",
    "            continue\n",
    "        if i.upper() == i:\n",
    "            ### HANDLING for CAPS\n",
    "            result.append(brailleDict['caps'])\n",
    "        result.append(brailleDict[i.lower()])\n",
    "    \n",
    "    return ''.join(result)"
   ]
  },
  {
   "cell_type": "markdown",
   "id": "89f522d0",
   "metadata": {},
   "source": [
    "### Test Cases"
   ]
  },
  {
   "cell_type": "code",
   "execution_count": 3,
   "id": "7a6973ac",
   "metadata": {},
   "outputs": [
    {
     "data": {
      "text/plain": [
       "'000001011110110010100010000000111110101001010100100100101000000000110000111010101010010111101110000000110100101010101101000000010110101001101100111100011100000000101010111001100010111010000000011110110010100010000000111000100000101011101111000000100110101010110110'"
      ]
     },
     "execution_count": 3,
     "metadata": {},
     "output_type": "execute_result"
    }
   ],
   "source": [
    "solution('The quick brown fox jumps over the lazy dog')"
   ]
  },
  {
   "cell_type": "code",
   "execution_count": null,
   "id": "ee3e24a8",
   "metadata": {},
   "outputs": [],
   "source": [
    "solution('Commander Lambda is kind of stupid to not have done this before')"
   ]
  }
 ],
 "metadata": {
  "kernelspec": {
   "display_name": "Python 3 (ipykernel)",
   "language": "python",
   "name": "python3"
  },
  "language_info": {
   "codemirror_mode": {
    "name": "ipython",
    "version": 3
   },
   "file_extension": ".py",
   "mimetype": "text/x-python",
   "name": "python",
   "nbconvert_exporter": "python",
   "pygments_lexer": "ipython3",
   "version": "3.9.7"
  }
 },
 "nbformat": 4,
 "nbformat_minor": 5
}
